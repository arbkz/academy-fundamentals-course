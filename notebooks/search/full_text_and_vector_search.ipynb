{
 "cells": [
  {
   "cell_type": "markdown",
   "metadata": {},
   "source": [
    "# CrateDB Full-Text and Vector Search Workshop\n",
    "\n",
    "TODO overview.\n",
    "\n",
    "## Install Dependencies\n",
    "\n",
    "First, install the required depenencies by executing the `pip install` command below."
   ]
  },
  {
   "cell_type": "code",
   "execution_count": null,
   "metadata": {},
   "outputs": [],
   "source": [
    "! pip install ipyleaflet sqlalchemy-cratedb pandas"
   ]
  },
  {
   "cell_type": "markdown",
   "metadata": {},
   "source": [
    "## Connect to CrateDB\n",
    "\n",
    "Before going any further, you'll need to update the code below to include a connection string for your CrateDB cluster.  If you prefer, you can set the environment variable `CRATEDB_CONNECTION_STRING` instead.\n",
    "\n",
    "The code below assumes that you're using a managed [CrateDB Cloud](https://console.cratedb.cloud/) cluster.  If you're running CrateDB locally (for example with [Docker](https://hub.docker.com/_/crate)), use the \"localhost\" code block instead."
   ]
  },
  {
   "cell_type": "code",
   "execution_count": 1,
   "metadata": {},
   "outputs": [],
   "source": [
    "import os\n",
    "import sqlalchemy as sa\n",
    "\n",
    "# # Define database address when using CrateDB Cloud.\n",
    "# # Please find these settings on your cluster overview page.\n",
    "#CONNECTION_STRING = os.environ.get(\n",
    "#   \"CRATEDB_CONNECTION_STRING\",\n",
    "#   \"crate://<USERNAME>:<PASSWORD>@<HOST>/?ssl=true\",\n",
    "#)\n",
    "\n",
    "# # Define database address when using CrateDB on localhost.\n",
    "CONNECTION_STRING = os.environ.get(\n",
    "  \"CRATEDB_CONNECTION_STRING\",\n",
    "  \"crate://crate@localhost/\",\n",
    ")\n",
    "\n",
    "# # Connect to CrateDB using SQLAlchemy.\n",
    "engine = sa.create_engine(CONNECTION_STRING, echo=os.environ.get(\"DEBUG\"))\n",
    "connection = engine.connect()"
   ]
  },
  {
   "cell_type": "markdown",
   "metadata": {},
   "source": [
    "## Create a Community Areas Table\n",
    "\n",
    "First, you'll need to create a table to store the community areas data in.  You may have a `community_areas` table that was created by following other CrateDB workshops.  The code below drops any existing such table, replacing it with a new version.  This new version as an additional column `description_vec` in the `details` object.  You'll learn about what this is for later in this workshop!"
   ]
  },
  {
   "cell_type": "code",
   "execution_count": 5,
   "metadata": {},
   "outputs": [],
   "source": [
    "_ = connection.execute(sa.text(\n",
    "\"\"\"\n",
    "DROP TABLE IF EXISTS community_areas\n",
    "\"\"\"\n",
    "))\n",
    "\n",
    "_ = connection.execute(sa.text(\n",
    "\"\"\"\n",
    "CREATE TABLE IF NOT EXISTS community_areas (\n",
    "   areanumber INTEGER PRIMARY KEY,\n",
    "   name TEXT,\n",
    "   details OBJECT(DYNAMIC) AS (\n",
    "       description TEXT INDEX USING fulltext,\n",
    "       description_vec FLOAT_VECTOR(2048),\n",
    "       population BIGINT\n",
    "   ),\n",
    "   boundaries GEO_SHAPE INDEX USING geohash WITH (PRECISION='1m', DISTANCE_ERROR_PCT=0.025)\n",
    ");\n",
    "\"\"\"))"
   ]
  },
  {
   "cell_type": "markdown",
   "metadata": {},
   "source": [
    "## Load the Data\n",
    "\n",
    "Next, load the community areas data, which is stored as a JSON file on GitHub..."
   ]
  },
  {
   "cell_type": "code",
   "execution_count": 6,
   "metadata": {},
   "outputs": [
    {
     "name": "stdout",
     "output_type": "stream",
     "text": [
      "community_areas: loaded 77, errors: 0\n"
     ]
    }
   ],
   "source": [
    "def display_results(table_name, info):\n",
    "    print(f\"{table_name}: loaded {info['success_count']}, errors: {info['error_count']}\")\n",
    "\n",
    "    if info[\"error_count\"] > 0:\n",
    "        print(f\"Errors: {info['errors']}\")\n",
    "\n",
    "# Load the community areas data file.\n",
    "result = connection.execute(sa.text(\"\"\"\n",
    "    COPY community_areas \n",
    "    FROM 'https://github.com/crate/cratedb-datasets/raw/main/academy/chicago-data/chicago_community_areas_with_vectors.json' \n",
    "    RETURN SUMMARY;                                  \n",
    "    \"\"\"))\n",
    "\n",
    "display_results(\"community_areas\", result.mappings().first())"
   ]
  },
  {
   "cell_type": "markdown",
   "metadata": {},
   "source": [
    "Once the data's loaded, verify that the output shows 0 errors.  Next, we'll run a `REFRESH` command to make sure that the data's up to date before querying it.  We'll also run `ANALYZE`, which collects statistics used by the query optimizer."
   ]
  },
  {
   "cell_type": "code",
   "execution_count": 7,
   "metadata": {},
   "outputs": [],
   "source": [
    "_ = connection.execute(sa.text(\"REFRESH TABLE community_areas, three_eleven_calls, libraries\"))\n",
    "_ = connection.execute(sa.text(\"ANALYZE\"))"
   ]
  },
  {
   "cell_type": "markdown",
   "metadata": {},
   "source": [
    "TODO simple select to verify things are good."
   ]
  },
  {
   "cell_type": "code",
   "execution_count": 12,
   "metadata": {},
   "outputs": [
    {
     "data": {
      "text/html": [
       "<div>\n",
       "<style scoped>\n",
       "    .dataframe tbody tr th:only-of-type {\n",
       "        vertical-align: middle;\n",
       "    }\n",
       "\n",
       "    .dataframe tbody tr th {\n",
       "        vertical-align: top;\n",
       "    }\n",
       "\n",
       "    .dataframe thead th {\n",
       "        text-align: right;\n",
       "    }\n",
       "</style>\n",
       "<table border=\"1\" class=\"dataframe\">\n",
       "  <thead>\n",
       "    <tr style=\"text-align: right;\">\n",
       "      <th></th>\n",
       "      <th>name</th>\n",
       "      <th>desc_text</th>\n",
       "      <th>desc_vec</th>\n",
       "    </tr>\n",
       "  </thead>\n",
       "  <tbody>\n",
       "    <tr>\n",
       "      <th>0</th>\n",
       "      <td>ROGERS PARK</td>\n",
       "      <td>Rogers Park is the first of Chicago's 77 commu...</td>\n",
       "      <td>[-0.0022681202, 0.009500365, -0.019281529, 1.3...</td>\n",
       "    </tr>\n",
       "    <tr>\n",
       "      <th>1</th>\n",
       "      <td>WEST RIDGE</td>\n",
       "      <td>West Ridge is one of 77 Chicago community area...</td>\n",
       "      <td>[0.010529446, -0.002814602, -0.013438543, 0.01...</td>\n",
       "    </tr>\n",
       "    <tr>\n",
       "      <th>2</th>\n",
       "      <td>UPTOWN</td>\n",
       "      <td>Uptown is one of Chicago's 77 community areas....</td>\n",
       "      <td>[0.012312315, 0.035940763, -0.018374063, -0.01...</td>\n",
       "    </tr>\n",
       "    <tr>\n",
       "      <th>3</th>\n",
       "      <td>LINCOLN SQUARE</td>\n",
       "      <td>Lincoln Square on the North Side of Chicago, I...</td>\n",
       "      <td>[0.035294976, 0.029014729, -0.022433033, 0.005...</td>\n",
       "    </tr>\n",
       "    <tr>\n",
       "      <th>4</th>\n",
       "      <td>NORTH CENTER</td>\n",
       "      <td>North Center is one of the 77 community areas ...</td>\n",
       "      <td>[0.021928966, 0.022093171, -0.024451768, 0.011...</td>\n",
       "    </tr>\n",
       "  </tbody>\n",
       "</table>\n",
       "</div>"
      ],
      "text/plain": [
       "             name                                          desc_text  \\\n",
       "0     ROGERS PARK  Rogers Park is the first of Chicago's 77 commu...   \n",
       "1      WEST RIDGE  West Ridge is one of 77 Chicago community area...   \n",
       "2          UPTOWN  Uptown is one of Chicago's 77 community areas....   \n",
       "3  LINCOLN SQUARE  Lincoln Square on the North Side of Chicago, I...   \n",
       "4    NORTH CENTER  North Center is one of the 77 community areas ...   \n",
       "\n",
       "                                            desc_vec  \n",
       "0  [-0.0022681202, 0.009500365, -0.019281529, 1.3...  \n",
       "1  [0.010529446, -0.002814602, -0.013438543, 0.01...  \n",
       "2  [0.012312315, 0.035940763, -0.018374063, -0.01...  \n",
       "3  [0.035294976, 0.029014729, -0.022433033, 0.005...  \n",
       "4  [0.021928966, 0.022093171, -0.024451768, 0.011...  "
      ]
     },
     "execution_count": 12,
     "metadata": {},
     "output_type": "execute_result"
    }
   ],
   "source": [
    "import pandas as pd\n",
    "\n",
    "query = \"\"\"\n",
    "SELECT \n",
    "    name, details['description'] as desc_text, details['description_vec'] as desc_vec \n",
    "FROM community_areas WHERE areanumber <= 5 ORDER BY areanumber ASC\n",
    "\"\"\"\n",
    "df = pd.read_sql(query, CONNECTION_STRING)\n",
    "\n",
    "df"
   ]
  },
  {
   "cell_type": "markdown",
   "metadata": {},
   "source": [
    "TODO commentary on the above."
   ]
  },
  {
   "cell_type": "markdown",
   "metadata": {},
   "source": [
    "## Full-text Search\n",
    "\n",
    "TODO full text search parts"
   ]
  },
  {
   "cell_type": "markdown",
   "metadata": {},
   "source": [
    "## Vector Similarity Search\n",
    "\n",
    "TODO vector similarity parts"
   ]
  },
  {
   "cell_type": "markdown",
   "metadata": {},
   "source": [
    "## Towards Hybrid Search\n",
    "\n",
    "TODO combining the two searches in one query"
   ]
  },
  {
   "cell_type": "markdown",
   "metadata": {},
   "source": [
    "## Combining Search and Other Query Criteria\n",
    "\n",
    "TODO using geo, the third search... and querying with supporting data..."
   ]
  },
  {
   "cell_type": "markdown",
   "metadata": {},
   "source": [
    "## Additional Resources\n",
    "\n",
    "TODO call to action for other tutorials"
   ]
  },
  {
   "cell_type": "markdown",
   "metadata": {},
   "source": [
    "## Continue your Learning Journey\n",
    "\n",
    "To learn more about CrateDB, sign up for our courses at the CrateDB Academy.  We recommend the [CrateDB Fundamentals](https://learn.cratedb.com/cratedb-fundamentals) course for a comprehensive overview, and our [Advanced Time Series](https://learn.cratedb.com/time-series) course for a deep dive into time series data concepts."
   ]
  }
 ],
 "metadata": {
  "kernelspec": {
   "display_name": ".venv",
   "language": "python",
   "name": "python3"
  },
  "language_info": {
   "codemirror_mode": {
    "name": "ipython",
    "version": 3
   },
   "file_extension": ".py",
   "mimetype": "text/x-python",
   "name": "python",
   "nbconvert_exporter": "python",
   "pygments_lexer": "ipython3",
   "version": "3.12.2"
  }
 },
 "nbformat": 4,
 "nbformat_minor": 2
}
