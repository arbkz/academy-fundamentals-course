{
 "cells": [
  {
   "cell_type": "markdown",
   "metadata": {},
   "source": [
    "# CrateDB Multi-Model Data Workshop\n",
    "\n",
    "TODO Introduction.\n",
    "\n",
    "## Install Dependencies\n",
    "\n",
    "First, install the required depenencies by uncommenting and executing the `pip install` command below.  Make sure to restart the notebook runtime environment once this command has completed."
   ]
  },
  {
   "cell_type": "code",
   "execution_count": null,
   "metadata": {},
   "outputs": [],
   "source": [
    "! pip install ipyleaflet sqlalchemy-cratedb pandas"
   ]
  },
  {
   "cell_type": "markdown",
   "metadata": {},
   "source": [
    "## Connect to CrateDB\n",
    "\n",
    "Before going any further, you'll need to update the code below to include a connection string for your CrateDB cluster.  If you prefer, you can set the environment variable `CRATEDB_CONNECTION_STRING` instead.\n",
    "\n",
    "The code below assumes that you're using a managed [CrateDB Cloud](https://console.cratedb.cloud/) cluster.  If you're running CrateDB locally (for example with [Docker](https://hub.docker.com/_/crate)), use the \"localhost\" code block instead."
   ]
  },
  {
   "cell_type": "code",
   "execution_count": 81,
   "metadata": {},
   "outputs": [],
   "source": [
    "import os\n",
    "import sqlalchemy as sa\n",
    "\n",
    "# # Define database address when using CrateDB Cloud.\n",
    "# # Please find these settings on your cluster overview page.\n",
    "# CONNECTION_STRING = os.environ.get(\n",
    "#     \"CRATEDB_CONNECTION_STRING\",\n",
    "#     \"crate://<USERNAME>:<PASSWORD>@<HOST>/?ssl=true\",\n",
    "# )\n",
    "\n",
    "# # Define database address when using CrateDB on localhost.\n",
    "CONNECTION_STRING = os.environ.get(\n",
    "   \"CRATEDB_CONNECTION_STRING\",\n",
    "   \"crate://crate@localhost/\",\n",
    ")\n",
    "\n",
    "# # Connect to CrateDB using SQLAlchemy.\n",
    "engine = sa.create_engine(CONNECTION_STRING, echo=os.environ.get('DEBUG'))\n",
    "connection = engine.connect()"
   ]
  },
  {
   "cell_type": "markdown",
   "metadata": {},
   "source": [
    "## Create Tables\n",
    "\n",
    "Next, we'll create three tables as follows:\n",
    "\n",
    "* `community_areas` - to contain document data about the 77 community areas that make up the city of Chicago.\n",
    "\n",
    "* `three_eleven_calls` - details about service requests placed with the Chicago 311 non-emergency issue reporting service.\n",
    "\n",
    "* `libraries` - data about Chicago's public libraries, including their locations and opening times.\n",
    "\n",
    "Run the code below to create them, taking a moment to understand the table schemas."
   ]
  },
  {
   "cell_type": "code",
   "execution_count": 12,
   "metadata": {},
   "outputs": [],
   "source": [
    "_ = connection.execute(sa.text(\n",
    "\"\"\"\n",
    "CREATE TABLE IF NOT EXISTS community_areas (\n",
    "   areanumber INTEGER PRIMARY KEY,\n",
    "   name TEXT,\n",
    "   details OBJECT(DYNAMIC) AS (\n",
    "       description TEXT INDEX USING fulltext,\n",
    "       population BIGINT\n",
    "   ),\n",
    "   boundaries GEO_SHAPE INDEX USING geohash WITH (PRECISION='1m', DISTANCE_ERROR_PCT=0.025)\n",
    ");\n",
    "\"\"\"))\n",
    "\n",
    "_  = connection.execute(sa.text(\n",
    "\"\"\"\n",
    "CREATE TABLE IF NOT EXISTS three_eleven_calls (\n",
    "   srnumber TEXT,\n",
    "   srtype TEXT,\n",
    "   srshortcode TEXT,\n",
    "   createddept TEXT,\n",
    "   ownerdept TEXT,\n",
    "   status TEXT,\n",
    "   origin TEXT,\n",
    "   createddate TIMESTAMP,\n",
    "   lastmodifieddate TIMESTAMP,\n",
    "   closeddate TIMESTAMP,\n",
    "   week GENERATED ALWAYS AS date_trunc('week', createddate),\n",
    "   isduplicate BOOLEAN,\n",
    "   createdhour SMALLINT,\n",
    "   createddayofweek SMALLINT,\n",
    "   createdmonth SMALLINT,\n",
    "   locationdetails OBJECT(DYNAMIC) AS (\n",
    "       streetaddress TEXT,\n",
    "       city TEXT,\n",
    "       state TEXT,\n",
    "       zipcode TEXT,\n",
    "       streetnumber TEXT,\n",
    "       streetdirection TEXT,\n",
    "       streetname TEXT,\n",
    "       streettype TEXT,\n",
    "       communityarea SMALLINT,\n",
    "       ward SMALLINT,\n",
    "       policesector SMALLINT,\n",
    "       policedistrict SMALLINT,\n",
    "       policebeat SMALLINT,\n",
    "       precinct SMALLINT,\n",
    "       latitude DOUBLE PRECISION,\n",
    "       longitude DOUBLE PRECISION,\n",
    "       location GEO_POINT\n",
    "   )\n",
    ") PARTITIONED BY (week);\n",
    "\"\"\"))\n",
    "\n",
    "_ = connection.execute(sa.text(\n",
    "\"\"\"\n",
    "CREATE TABLE IF NOT EXISTS libraries (\n",
    "   name TEXT,\n",
    "   location OBJECT(DYNAMIC) AS (\n",
    "       address TEXT,\n",
    "       zipcode TEXT,\n",
    "       communityarea INTEGER,\n",
    "       position GEO_POINT\n",
    "   ),\n",
    "   hours ARRAY(TEXT),\n",
    "   phone TEXT,\n",
    "   website TEXT\n",
    ");\n",
    "\"\"\"))"
   ]
  },
  {
   "cell_type": "markdown",
   "metadata": {},
   "source": [
    "## Loading the Data\n",
    "\n",
    "We'll load the data from files contained in the `cratedb-datasets` public GitHub repository.  There's one file for each table:\n",
    "\n",
    "* Data for the `community_areas` table is contained in a JSON file named `chicago_community_areas.json`.\n",
    "\n",
    "* Data for the `three_eleven_calls` table is contained in a compressed JSON file named `311_records_apr_2024.json.gz`.\n",
    "\n",
    "* Data for the `libraries` table is contained in a JSON dile named `chicago_libraries.json`.\n",
    "\n",
    "The following code populates each table in turn, using `COPY FROM` statements."
   ]
  },
  {
   "cell_type": "code",
   "execution_count": 5,
   "metadata": {},
   "outputs": [
    {
     "name": "stdout",
     "output_type": "stream",
     "text": [
      "community_areas: loaded 77, errors: 0\n"
     ]
    }
   ],
   "source": [
    "def display_results(table_name, info):\n",
    "    print(f\"{table_name}: loaded {info['success_count']}, errors: {info['error_count']}\")\n",
    "\n",
    "    if info['error_count'] > 0:\n",
    "        print(f\"Errors: {info['errors']}\")\n",
    "\n",
    "# Load the community areas data file.\n",
    "result = connection.execute(sa.text(\"\"\"\n",
    "    COPY community_areas \n",
    "    FROM 'https://github.com/crate/cratedb-datasets/raw/main/academy/chicago-data/chicago_community_areas.json' \n",
    "    RETURN SUMMARY;                                  \n",
    "    \"\"\"))\n",
    "\n",
    "display_results(\"community_areas\", result.mappings().first())"
   ]
  },
  {
   "cell_type": "code",
   "execution_count": 7,
   "metadata": {},
   "outputs": [
    {
     "name": "stdout",
     "output_type": "stream",
     "text": [
      "three_eleven_calls: loaded 174092, errors: 0\n"
     ]
    }
   ],
   "source": [
    "# Load the 311 calls data file.\n",
    "result = connection.execute(sa.text(\"\"\"\n",
    "    COPY three_eleven_calls \n",
    "    FROM 'https://github.com/crate/cratedb-datasets/raw/main/academy/chicago-data/311_records_apr_2024.json.gz' \n",
    "    WITH (compression='gzip') RETURN SUMMARY                                   \n",
    "    \"\"\"))\n",
    "\n",
    "display_results(\"three_eleven_calls\", result.mappings().first())"
   ]
  },
  {
   "cell_type": "code",
   "execution_count": 8,
   "metadata": {},
   "outputs": [
    {
     "name": "stdout",
     "output_type": "stream",
     "text": [
      "libraries: loaded 81, errors: 0\n"
     ]
    }
   ],
   "source": [
    "# Load the libraries data file.\n",
    "result = connection.execute(sa.text(\"\"\"\n",
    "    COPY libraries \n",
    "    FROM 'https://github.com/crate/cratedb-datasets/raw/main/academy/chicago-data/chicago_libraries.json' \n",
    "    RETURN SUMMARY;                       \n",
    "    \"\"\"))\n",
    "\n",
    "display_results(\"libraries\", result.mappings().first())"
   ]
  },
  {
   "cell_type": "markdown",
   "metadata": {},
   "source": [
    "Once the data's loaded, verify that the output shows 0 errors for each table.  Next, we'll run a `REFRESH` command to make sure that the data's up to date before querying it.  We'll also run `ANALYZE`, which collects statistics used by the query optimizer."
   ]
  },
  {
   "cell_type": "code",
   "execution_count": 10,
   "metadata": {},
   "outputs": [],
   "source": [
    "_ = connection.execute(sa.text(\"REFRESH TABLE community_areas, three_eleven_calls, libraries\"))\n",
    "_ = connection.execute(sa.text(\"ANALYZE\"))"
   ]
  },
  {
   "cell_type": "markdown",
   "metadata": {},
   "source": [
    "## Displaying Community Areas on a Map\n",
    "\n",
    "TODO plot a basic population map."
   ]
  },
  {
   "cell_type": "code",
   "execution_count": 82,
   "metadata": {},
   "outputs": [
    {
     "data": {
      "application/vnd.jupyter.widget-view+json": {
       "model_id": "a52c34a9362c48598c4d7faaf7ef46cb",
       "version_major": 2,
       "version_minor": 0
      },
      "text/plain": [
       "Map(center=[41.83068856472101, -87.74024963378908], controls=(ZoomControl(options=['position', 'zoom_in_text',…"
      ]
     },
     "metadata": {},
     "output_type": "display_data"
    }
   ],
   "source": [
    "import pandas as pd\n",
    "import random\n",
    "from ipyleaflet import Map, GeoJSON\n",
    "\n",
    "center = (41.83068856472101, -87.74024963378908)\n",
    "map = Map(center=center, zoom=10)\n",
    "\n",
    "query = \"\"\"\n",
    "SELECT name, boundaries, details['population'] as population FROM community_areas\n",
    "\"\"\"\n",
    "df = pd.read_sql(query, CONNECTION_STRING)\n",
    "\n",
    "def get_color_for_population(population):\n",
    "    if population < 20000:\n",
    "        return 'green'\n",
    "    elif population < 40000:\n",
    "        return 'yellow'\n",
    "    elif population < 60000:\n",
    "        return 'orange'\n",
    "\n",
    "    return 'red'\n",
    "\n",
    "for row in df.iterrows():\n",
    "    community_area = GeoJSON(\n",
    "        data=row[1]['boundaries'],\n",
    "        style={\n",
    "            'stroke': False,\n",
    "            'fillColor': get_color_for_population(row[1]['population']),\n",
    "            'fillOpacity': 0.5\n",
    "        },\n",
    "    )\n",
    "\n",
    "    map.add(community_area)\n",
    "\n",
    "display(map)"
   ]
  },
  {
   "cell_type": "markdown",
   "metadata": {},
   "source": [
    "## TODO title...\n",
    "\n",
    "check you can do click events on the map?  do something with that?"
   ]
  },
  {
   "cell_type": "code",
   "execution_count": 107,
   "metadata": {},
   "outputs": [
    {
     "data": {
      "application/vnd.jupyter.widget-view+json": {
       "model_id": "9326d9c914cd42ddaf4b1c6f72b670ac",
       "version_major": 2,
       "version_minor": 0
      },
      "text/plain": [
       "Map(center=[41.83068856472101, -87.74024963378908], controls=(ZoomControl(options=['position', 'zoom_in_text',…"
      ]
     },
     "metadata": {},
     "output_type": "display_data"
    }
   ],
   "source": [
    "from ipyleaflet import Icon, Marker\n",
    "from ipywidgets import HTML\n",
    "\n",
    "libraries_map = Map(center=center, zoom=10)\n",
    "location_icon = Icon(icon_url='https://raw.githubusercontent.com/pointhi/leaflet-color-markers/master/img/marker-icon-2x-red.png', icon_size=[25, 41], icon_anchor=[12, 41])\n",
    "library_marker = None\n",
    "\n",
    "def on_my_position_changed(pos):\n",
    "    global library_marker\n",
    "\n",
    "    my_lat = pos['new'][0]\n",
    "    my_lon = pos['new'][1]\n",
    "    query = f\"\"\"\n",
    "    SELECT \n",
    "        name, \n",
    "        hours, \n",
    "        location['position'] as location,\n",
    "        distance('POINT({my_lon} {my_lat})', location['position']) AS distance \n",
    "        FROM libraries ORDER BY distance ASC LIMIT 1;\n",
    "    \"\"\"\n",
    "    \n",
    "    df = pd.read_sql(query, CONNECTION_STRING)\n",
    "    closest_library = df.values[0]\n",
    "    library_lat = closest_library[2][1]\n",
    "    library_lon = closest_library[2][0]\n",
    "\n",
    "    if library_marker:\n",
    "        libraries_map.remove(library_marker)\n",
    "\n",
    "    library_marker = Marker(location = (library_lat, library_lon), draggable=False)\n",
    "    library_details = HTML()\n",
    "\n",
    "    library_opening_hours = [None] * 14\n",
    "    library_opening_hours[::2] = [\"<b>M</b>: \", \"<br/><b>T</b>: \", \"<br/><b>W:</b> \", \"<br/><b>T:</b> \", \"<br/><b>F:</b> \", \"<br/><b>S:</b> \", \"<br/><b>S:</b> \"]\n",
    "    library_opening_hours[1::2] = closest_library[1]\n",
    "    library_details.value = f\"<span style=\\\"color: #000000;\\\"><b>{closest_library[0]}</b><hr/>{''.join(library_opening_hours)}</span>\"\n",
    "    library_marker.popup = library_details\n",
    "    libraries_map.add(library_marker)\n",
    "\n",
    "\n",
    "my_position = Marker(location=center, icon=location_icon, draggable=True)\n",
    "my_position.observe(on_my_position_changed, \"location\")\n",
    "\n",
    "libraries_map.add_control(my_position)\n",
    "display(libraries_map)"
   ]
  }
 ],
 "metadata": {
  "kernelspec": {
   "display_name": ".venv",
   "language": "python",
   "name": "python3"
  },
  "language_info": {
   "codemirror_mode": {
    "name": "ipython",
    "version": 3
   },
   "file_extension": ".py",
   "mimetype": "text/x-python",
   "name": "python",
   "nbconvert_exporter": "python",
   "pygments_lexer": "ipython3",
   "version": "3.12.2"
  }
 },
 "nbformat": 4,
 "nbformat_minor": 2
}
