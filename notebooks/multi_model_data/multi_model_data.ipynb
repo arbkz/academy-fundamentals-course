{
 "cells": [
  {
   "cell_type": "markdown",
   "metadata": {},
   "source": [
    "# CrateDB Multi-Model Data Workshop\n",
    "\n",
    "TODO Introduction.\n",
    "\n",
    "## Install Dependencies\n",
    "\n",
    "First, install the required depenencies by uncommenting and executing the `pip install` command below.  Make sure to restart the notebook runtime environment once this command has completed."
   ]
  },
  {
   "cell_type": "code",
   "execution_count": null,
   "metadata": {},
   "outputs": [],
   "source": [
    "#! pip install -r https://raw.githubusercontent.com/crate/academy-fundamentals-course/main/notebooks/multi_model_data/requirements.txt"
   ]
  },
  {
   "cell_type": "markdown",
   "metadata": {},
   "source": [
    "## Connect to CrateDB\n",
    "\n",
    "Before going any further, you'll need to update the code below to include a connection string for your CrateDB cluster.  If you prefer, you can set the environment variable `CRATEDB_CONNECTION_STRING` instead.\n",
    "\n",
    "The code below assumes that you're using a managed [CrateDB Cloud](https://console.cratedb.cloud/) cluster.  If you're running CrateDB locally (for example with [Docker](https://hub.docker.com/_/crate)), use the \"localhost\" code block instead."
   ]
  },
  {
   "cell_type": "code",
   "execution_count": 2,
   "metadata": {},
   "outputs": [],
   "source": [
    "import os\n",
    "import sqlalchemy as sa\n",
    "\n",
    "# # Define database address when using CrateDB Cloud.\n",
    "# # Please find these settings on your cluster overview page.\n",
    "# CONNECTION_STRING = os.environ.get(\n",
    "#     \"CRATEDB_CONNECTION_STRING\",\n",
    "#     \"crate://<USERNAME>:<PASSWORD>@<HOST>/?ssl=true\",\n",
    "# )\n",
    "\n",
    "# # Define database address when using CrateDB on localhost.\n",
    "CONNECTION_STRING = os.environ.get(\n",
    "   \"CRATEDB_CONNECTION_STRING\",\n",
    "   \"crate://crate@localhost/\",\n",
    ")\n",
    "\n",
    "# # Connect to CrateDB using SQLAlchemy.\n",
    "engine = sa.create_engine(CONNECTION_STRING, echo=os.environ.get('DEBUG'))\n",
    "connection = engine.connect()"
   ]
  },
  {
   "cell_type": "markdown",
   "metadata": {},
   "source": [
    "## Create Tables\n",
    "\n",
    "Next, we'll create three tables as follows:\n",
    "\n",
    "* `community_areas` - to contain document data about the 77 community areas that make up the city of Chicago.\n",
    "\n",
    "* `three_eleven_calls` - details about service requests placed with the Chicago 311 non-emergency issue reporting service.\n",
    "\n",
    "* `libraries` - data about Chicago's public libraries, including their locations and opening times.\n",
    "\n",
    "Run the code below to create them, taking a moment to understand the table schemas."
   ]
  },
  {
   "cell_type": "code",
   "execution_count": 12,
   "metadata": {},
   "outputs": [],
   "source": [
    "_ = connection.execute(sa.text(\n",
    "\"\"\"\n",
    "CREATE TABLE IF NOT EXISTS community_areas (\n",
    "   areanumber INTEGER PRIMARY KEY,\n",
    "   name TEXT,\n",
    "   details OBJECT(DYNAMIC) AS (\n",
    "       description TEXT INDEX USING fulltext,\n",
    "       population BIGINT\n",
    "   ),\n",
    "   boundaries GEO_SHAPE INDEX USING geohash WITH (PRECISION='1m', DISTANCE_ERROR_PCT=0.025)\n",
    ");\n",
    "\"\"\"))\n",
    "\n",
    "_  = connection.execute(sa.text(\n",
    "\"\"\"\n",
    "CREATE TABLE IF NOT EXISTS three_eleven_calls (\n",
    "   srnumber TEXT,\n",
    "   srtype TEXT,\n",
    "   srshortcode TEXT,\n",
    "   createddept TEXT,\n",
    "   ownerdept TEXT,\n",
    "   status TEXT,\n",
    "   origin TEXT,\n",
    "   createddate TIMESTAMP,\n",
    "   lastmodifieddate TIMESTAMP,\n",
    "   closeddate TIMESTAMP,\n",
    "   week GENERATED ALWAYS AS date_trunc('week', createddate),\n",
    "   isduplicate BOOLEAN,\n",
    "   createdhour SMALLINT,\n",
    "   createddayofweek SMALLINT,\n",
    "   createdmonth SMALLINT,\n",
    "   locationdetails OBJECT(DYNAMIC) AS (\n",
    "       streetaddress TEXT,\n",
    "       city TEXT,\n",
    "       state TEXT,\n",
    "       zipcode TEXT,\n",
    "       streetnumber TEXT,\n",
    "       streetdirection TEXT,\n",
    "       streetname TEXT,\n",
    "       streettype TEXT,\n",
    "       communityarea SMALLINT,\n",
    "       ward SMALLINT,\n",
    "       policesector SMALLINT,\n",
    "       policedistrict SMALLINT,\n",
    "       policebeat SMALLINT,\n",
    "       precinct SMALLINT,\n",
    "       latitude DOUBLE PRECISION,\n",
    "       longitude DOUBLE PRECISION,\n",
    "       location GEO_POINT\n",
    "   )\n",
    ") PARTITIONED BY (week);\n",
    "\"\"\"))\n",
    "\n",
    "_ = connection.execute(sa.text(\n",
    "\"\"\"\n",
    "CREATE TABLE IF NOT EXISTS libraries (\n",
    "   name TEXT,\n",
    "   location OBJECT(DYNAMIC) AS (\n",
    "       address TEXT,\n",
    "       zipcode TEXT,\n",
    "       communityarea INTEGER,\n",
    "       position GEO_POINT\n",
    "   ),\n",
    "   hours ARRAY(TEXT),\n",
    "   phone TEXT,\n",
    "   website TEXT\n",
    ");\n",
    "\"\"\"))"
   ]
  },
  {
   "cell_type": "markdown",
   "metadata": {},
   "source": [
    "## Loading the Data\n",
    "\n",
    "We'll load the data from files contained in the `cratedb-datasets` public GitHub repository.  There's one file for each table:\n",
    "\n",
    "* Data for the `community_areas` table is contained in a JSON file named `chicago_community_areas.json`.\n",
    "\n",
    "* Data for the `three_eleven_calls` table is contained in a compressed JSON file named `311_records_apr_2024.json.gz`.\n",
    "\n",
    "* Data for the `libraries` table is contained in a JSON dile named `chicago_libraries.json`.\n",
    "\n",
    "The following code populates each table in turn, using `COPY FROM` statements."
   ]
  },
  {
   "cell_type": "code",
   "execution_count": 5,
   "metadata": {},
   "outputs": [
    {
     "name": "stdout",
     "output_type": "stream",
     "text": [
      "community_areas: loaded 77, errors: 0\n"
     ]
    }
   ],
   "source": [
    "def display_results(table_name, info):\n",
    "    print(f\"{table_name}: loaded {info['success_count']}, errors: {info['error_count']}\")\n",
    "\n",
    "    if info['error_count'] > 0:\n",
    "        print(f\"Errors: {info['errors']}\")\n",
    "\n",
    "# Load the community areas data file.\n",
    "result = connection.execute(sa.text(\"\"\"\n",
    "    COPY community_areas \n",
    "    FROM 'https://github.com/crate/cratedb-datasets/raw/main/academy/chicago-data/chicago_community_areas.json' \n",
    "    RETURN SUMMARY;                                  \n",
    "    \"\"\"))\n",
    "\n",
    "display_results(\"community_areas\", result.mappings().first())"
   ]
  },
  {
   "cell_type": "code",
   "execution_count": 7,
   "metadata": {},
   "outputs": [
    {
     "name": "stdout",
     "output_type": "stream",
     "text": [
      "three_eleven_calls: loaded 174092, errors: 0\n"
     ]
    }
   ],
   "source": [
    "# Load the 311 calls data file.\n",
    "result = connection.execute(sa.text(\"\"\"\n",
    "    COPY three_eleven_calls \n",
    "    FROM 'https://github.com/crate/cratedb-datasets/raw/main/academy/chicago-data/311_records_apr_2024.json.gz' \n",
    "    WITH (compression='gzip') RETURN SUMMARY                                   \n",
    "    \"\"\"))\n",
    "\n",
    "display_results(\"three_eleven_calls\", result.mappings().first())"
   ]
  },
  {
   "cell_type": "code",
   "execution_count": 8,
   "metadata": {},
   "outputs": [
    {
     "name": "stdout",
     "output_type": "stream",
     "text": [
      "libraries: loaded 81, errors: 0\n"
     ]
    }
   ],
   "source": [
    "# Load the libraries data file.\n",
    "result = connection.execute(sa.text(\"\"\"\n",
    "    COPY libraries \n",
    "    FROM 'https://github.com/crate/cratedb-datasets/raw/main/academy/chicago-data/chicago_libraries.json' \n",
    "    RETURN SUMMARY;                       \n",
    "    \"\"\"))\n",
    "\n",
    "display_results(\"libraries\", result.mappings().first())"
   ]
  },
  {
   "cell_type": "markdown",
   "metadata": {},
   "source": [
    "Once the data's loaded, verify that the output shows 0 errors for each table.  Next, we'll run a `REFRESH` command to make sure that the data's up to date before querying it.  We'll also run `ANALYZE`, which collects statistics used by the query optimizer."
   ]
  },
  {
   "cell_type": "code",
   "execution_count": 10,
   "metadata": {},
   "outputs": [],
   "source": [
    "_ = connection.execute(sa.text(\"REFRESH TABLE community_areas, three_eleven_calls, libraries\"))\n",
    "_ = connection.execute(sa.text(\"ANALYZE\"))"
   ]
  },
  {
   "cell_type": "markdown",
   "metadata": {},
   "source": [
    "## TODO Next Steps..."
   ]
  }
 ],
 "metadata": {
  "kernelspec": {
   "display_name": ".venv",
   "language": "python",
   "name": "python3"
  },
  "language_info": {
   "codemirror_mode": {
    "name": "ipython",
    "version": 3
   },
   "file_extension": ".py",
   "mimetype": "text/x-python",
   "name": "python",
   "nbconvert_exporter": "python",
   "pygments_lexer": "ipython3",
   "version": "3.12.2"
  }
 },
 "nbformat": 4,
 "nbformat_minor": 2
}
