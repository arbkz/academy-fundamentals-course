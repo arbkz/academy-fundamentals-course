{
 "cells": [
  {
   "cell_type": "markdown",
   "metadata": {},
   "source": [
    "# CrateDB Multi-Model Data Workshop\n",
    "\n",
    "TODO Introduction.\n",
    "\n",
    "## Install Dependencies\n",
    "\n",
    "First, install the required depenencies by uncommenting and executing the `pip install` command below.  Make sure to restart the notebook runtime environment once this command has completed."
   ]
  },
  {
   "cell_type": "code",
   "execution_count": null,
   "metadata": {},
   "outputs": [],
   "source": [
    "! pip install ipyleaflet sqlalchemy-cratedb pandas"
   ]
  },
  {
   "cell_type": "markdown",
   "metadata": {},
   "source": [
    "## Connect to CrateDB\n",
    "\n",
    "Before going any further, you'll need to update the code below to include a connection string for your CrateDB cluster.  If you prefer, you can set the environment variable `CRATEDB_CONNECTION_STRING` instead.\n",
    "\n",
    "The code below assumes that you're using a managed [CrateDB Cloud](https://console.cratedb.cloud/) cluster.  If you're running CrateDB locally (for example with [Docker](https://hub.docker.com/_/crate)), use the \"localhost\" code block instead."
   ]
  },
  {
   "cell_type": "code",
   "execution_count": 81,
   "metadata": {},
   "outputs": [],
   "source": [
    "import os\n",
    "import sqlalchemy as sa\n",
    "\n",
    "# # Define database address when using CrateDB Cloud.\n",
    "# # Please find these settings on your cluster overview page.\n",
    "# CONNECTION_STRING = os.environ.get(\n",
    "#     \"CRATEDB_CONNECTION_STRING\",\n",
    "#     \"crate://<USERNAME>:<PASSWORD>@<HOST>/?ssl=true\",\n",
    "# )\n",
    "\n",
    "# # Define database address when using CrateDB on localhost.\n",
    "CONNECTION_STRING = os.environ.get(\n",
    "   \"CRATEDB_CONNECTION_STRING\",\n",
    "   \"crate://crate@localhost/\",\n",
    ")\n",
    "\n",
    "# # Connect to CrateDB using SQLAlchemy.\n",
    "engine = sa.create_engine(CONNECTION_STRING, echo=os.environ.get(\"DEBUG\"))\n",
    "connection = engine.connect()"
   ]
  },
  {
   "cell_type": "markdown",
   "metadata": {},
   "source": [
    "## Create Tables\n",
    "\n",
    "Next, we'll create three tables as follows:\n",
    "\n",
    "* `community_areas` - to contain document data about the 77 community areas that make up the city of Chicago.\n",
    "\n",
    "* `three_eleven_calls` - details about service requests placed with the Chicago 311 non-emergency issue reporting service.\n",
    "\n",
    "* `libraries` - data about Chicago's public libraries, including their locations and opening times.\n",
    "\n",
    "Run the code below to create them, taking a moment to understand the table schemas."
   ]
  },
  {
   "cell_type": "code",
   "execution_count": 12,
   "metadata": {},
   "outputs": [],
   "source": [
    "_ = connection.execute(sa.text(\n",
    "\"\"\"\n",
    "CREATE TABLE IF NOT EXISTS community_areas (\n",
    "   areanumber INTEGER PRIMARY KEY,\n",
    "   name TEXT,\n",
    "   details OBJECT(DYNAMIC) AS (\n",
    "       description TEXT INDEX USING fulltext,\n",
    "       population BIGINT\n",
    "   ),\n",
    "   boundaries GEO_SHAPE INDEX USING geohash WITH (PRECISION='1m', DISTANCE_ERROR_PCT=0.025)\n",
    ");\n",
    "\"\"\"))\n",
    "\n",
    "_  = connection.execute(sa.text(\n",
    "\"\"\"\n",
    "CREATE TABLE IF NOT EXISTS three_eleven_calls (\n",
    "   srnumber TEXT,\n",
    "   srtype TEXT,\n",
    "   srshortcode TEXT,\n",
    "   createddept TEXT,\n",
    "   ownerdept TEXT,\n",
    "   status TEXT,\n",
    "   origin TEXT,\n",
    "   createddate TIMESTAMP,\n",
    "   lastmodifieddate TIMESTAMP,\n",
    "   closeddate TIMESTAMP,\n",
    "   week GENERATED ALWAYS AS date_trunc('week', createddate),\n",
    "   isduplicate BOOLEAN,\n",
    "   createdhour SMALLINT,\n",
    "   createddayofweek SMALLINT,\n",
    "   createdmonth SMALLINT,\n",
    "   locationdetails OBJECT(DYNAMIC) AS (\n",
    "       streetaddress TEXT,\n",
    "       city TEXT,\n",
    "       state TEXT,\n",
    "       zipcode TEXT,\n",
    "       streetnumber TEXT,\n",
    "       streetdirection TEXT,\n",
    "       streetname TEXT,\n",
    "       streettype TEXT,\n",
    "       communityarea SMALLINT,\n",
    "       ward SMALLINT,\n",
    "       policesector SMALLINT,\n",
    "       policedistrict SMALLINT,\n",
    "       policebeat SMALLINT,\n",
    "       precinct SMALLINT,\n",
    "       latitude DOUBLE PRECISION,\n",
    "       longitude DOUBLE PRECISION,\n",
    "       location GEO_POINT\n",
    "   )\n",
    ") PARTITIONED BY (week);\n",
    "\"\"\"))\n",
    "\n",
    "_ = connection.execute(sa.text(\n",
    "\"\"\"\n",
    "CREATE TABLE IF NOT EXISTS libraries (\n",
    "   name TEXT,\n",
    "   location OBJECT(DYNAMIC) AS (\n",
    "       address TEXT,\n",
    "       zipcode TEXT,\n",
    "       communityarea INTEGER,\n",
    "       position GEO_POINT\n",
    "   ),\n",
    "   hours ARRAY(TEXT),\n",
    "   phone TEXT,\n",
    "   website TEXT\n",
    ");\n",
    "\"\"\"))"
   ]
  },
  {
   "cell_type": "markdown",
   "metadata": {},
   "source": [
    "## Loading the Data\n",
    "\n",
    "We'll load the data from files contained in the `cratedb-datasets` public GitHub repository.  There's one file for each table:\n",
    "\n",
    "* Data for the `community_areas` table is contained in a JSON file named `chicago_community_areas.json`.\n",
    "\n",
    "* Data for the `three_eleven_calls` table is contained in a compressed JSON file named `311_records_apr_2024.json.gz`.\n",
    "\n",
    "* Data for the `libraries` table is contained in a JSON dile named `chicago_libraries.json`.\n",
    "\n",
    "The following code populates each table in turn, using `COPY FROM` statements."
   ]
  },
  {
   "cell_type": "code",
   "execution_count": 5,
   "metadata": {},
   "outputs": [
    {
     "name": "stdout",
     "output_type": "stream",
     "text": [
      "community_areas: loaded 77, errors: 0\n"
     ]
    }
   ],
   "source": [
    "def display_results(table_name, info):\n",
    "    print(f\"{table_name}: loaded {info['success_count']}, errors: {info['error_count']}\")\n",
    "\n",
    "    if info[\"error_count\"] > 0:\n",
    "        print(f\"Errors: {info['errors']}\")\n",
    "\n",
    "# Load the community areas data file.\n",
    "result = connection.execute(sa.text(\"\"\"\n",
    "    COPY community_areas \n",
    "    FROM 'https://github.com/crate/cratedb-datasets/raw/main/academy/chicago-data/chicago_community_areas.json' \n",
    "    RETURN SUMMARY;                                  \n",
    "    \"\"\"))\n",
    "\n",
    "display_results(\"community_areas\", result.mappings().first())"
   ]
  },
  {
   "cell_type": "code",
   "execution_count": 7,
   "metadata": {},
   "outputs": [
    {
     "name": "stdout",
     "output_type": "stream",
     "text": [
      "three_eleven_calls: loaded 174092, errors: 0\n"
     ]
    }
   ],
   "source": [
    "# Load the 311 calls data file.\n",
    "result = connection.execute(sa.text(\"\"\"\n",
    "    COPY three_eleven_calls \n",
    "    FROM 'https://github.com/crate/cratedb-datasets/raw/main/academy/chicago-data/311_records_apr_2024.json.gz' \n",
    "    WITH (compression='gzip') RETURN SUMMARY                                   \n",
    "    \"\"\"))\n",
    "\n",
    "display_results(\"three_eleven_calls\", result.mappings().first())"
   ]
  },
  {
   "cell_type": "code",
   "execution_count": 8,
   "metadata": {},
   "outputs": [
    {
     "name": "stdout",
     "output_type": "stream",
     "text": [
      "libraries: loaded 81, errors: 0\n"
     ]
    }
   ],
   "source": [
    "# Load the libraries data file.\n",
    "result = connection.execute(sa.text(\"\"\"\n",
    "    COPY libraries \n",
    "    FROM 'https://github.com/crate/cratedb-datasets/raw/main/academy/chicago-data/chicago_libraries.json' \n",
    "    RETURN SUMMARY;                       \n",
    "    \"\"\"))\n",
    "\n",
    "display_results(\"libraries\", result.mappings().first())"
   ]
  },
  {
   "cell_type": "markdown",
   "metadata": {},
   "source": [
    "Once the data's loaded, verify that the output shows 0 errors for each table.  Next, we'll run a `REFRESH` command to make sure that the data's up to date before querying it.  We'll also run `ANALYZE`, which collects statistics used by the query optimizer."
   ]
  },
  {
   "cell_type": "code",
   "execution_count": 10,
   "metadata": {},
   "outputs": [],
   "source": [
    "_ = connection.execute(sa.text(\"REFRESH TABLE community_areas, three_eleven_calls, libraries\"))\n",
    "_ = connection.execute(sa.text(\"ANALYZE\"))"
   ]
  },
  {
   "cell_type": "markdown",
   "metadata": {},
   "source": [
    "## Displaying Community Areas on a Map\n",
    "\n",
    "TODO plot a basic population map."
   ]
  },
  {
   "cell_type": "code",
   "execution_count": 125,
   "metadata": {},
   "outputs": [
    {
     "data": {
      "application/vnd.jupyter.widget-view+json": {
       "model_id": "445e82f7bb0e416bab26444b146db0de",
       "version_major": 2,
       "version_minor": 0
      },
      "text/plain": [
       "Map(center=[41.83068856472101, -87.74024963378908], controls=(ZoomControl(options=['position', 'zoom_in_text',…"
      ]
     },
     "metadata": {},
     "output_type": "display_data"
    }
   ],
   "source": [
    "import pandas as pd\n",
    "import random\n",
    "from ipyleaflet import Map, GeoJSON\n",
    "\n",
    "center = (41.83068856472101, -87.74024963378908)\n",
    "map = Map(center=center, zoom=10)\n",
    "\n",
    "query = \"\"\"\n",
    "SELECT name, boundaries, details['population'] as population FROM community_areas\n",
    "\"\"\"\n",
    "df = pd.read_sql(query, CONNECTION_STRING)\n",
    "\n",
    "def get_color_for_population(population):\n",
    "    if population < 20000:\n",
    "        return \"green\"\n",
    "    elif population < 40000:\n",
    "        return \"yellow\"\n",
    "    elif population < 60000:\n",
    "        return \"orange\"\n",
    "\n",
    "    return \"red\"\n",
    "\n",
    "for row in df.iterrows():\n",
    "    community_area = GeoJSON(\n",
    "        data=row[1][\"boundaries\"],\n",
    "        style={\n",
    "            \"stroke\": False,\n",
    "            \"fillColor\": get_color_for_population(row[1][\"population\"]),\n",
    "            \"fillOpacity\": 0.5\n",
    "        }\n",
    "    )\n",
    "\n",
    "    map.add(community_area)\n",
    "\n",
    "display(map)"
   ]
  },
  {
   "cell_type": "markdown",
   "metadata": {},
   "source": [
    "## TODO title...\n",
    "\n",
    "library finder."
   ]
  },
  {
   "cell_type": "code",
   "execution_count": 124,
   "metadata": {},
   "outputs": [
    {
     "data": {
      "application/vnd.jupyter.widget-view+json": {
       "model_id": "01f742eab0d04d598bff5553b9cf8a52",
       "version_major": 2,
       "version_minor": 0
      },
      "text/plain": [
       "Map(center=[41.83068856472101, -87.74024963378908], controls=(ZoomControl(options=['position', 'zoom_in_text',…"
      ]
     },
     "metadata": {},
     "output_type": "display_data"
    }
   ],
   "source": [
    "from ipyleaflet import Icon, Marker\n",
    "from ipywidgets import HTML\n",
    "\n",
    "libraries_map = Map(center=center, zoom=10)\n",
    "location_icon = Icon(icon_url='https://raw.githubusercontent.com/pointhi/leaflet-color-markers/master/img/marker-icon-2x-red.png', icon_size=[25, 41], icon_anchor=[12, 41])\n",
    "library_marker = None\n",
    "\n",
    "def on_my_position_changed(pos):\n",
    "    global library_marker\n",
    "\n",
    "    my_lat = pos[\"new\"][0]\n",
    "    my_lon = pos[\"new\"][1]\n",
    "    query = f\"\"\"\n",
    "    SELECT \n",
    "        name, \n",
    "        hours, \n",
    "        location['position'] as location,\n",
    "        distance('POINT({my_lon} {my_lat})', location['position']) AS distance \n",
    "        FROM libraries ORDER BY distance ASC LIMIT 1;\n",
    "    \"\"\"\n",
    "    \n",
    "    df = pd.read_sql(query, CONNECTION_STRING)\n",
    "    closest_library = df.values[0]\n",
    "    library_lat = closest_library[2][1]\n",
    "    library_lon = closest_library[2][0]\n",
    "\n",
    "    if library_marker:\n",
    "        libraries_map.remove(library_marker)\n",
    "\n",
    "    library_marker = Marker(location = (library_lat, library_lon), draggable=False)\n",
    "    library_details = HTML()\n",
    "\n",
    "    library_opening_hours = [None] * 14\n",
    "    library_opening_hours[::2] = [\"<b>M</b>: \", \"<br/><b>T</b>: \", \"<br/><b>W:</b> \", \"<br/><b>T:</b> \", \"<br/><b>F:</b> \", \"<br/><b>S:</b> \", \"<br/><b>S:</b> \"]\n",
    "    library_opening_hours[1::2] = closest_library[1]\n",
    "    library_details.value = f\"<span style=\\\"color: #000000;\\\"><b>{closest_library[0]}</b><hr/>{''.join(library_opening_hours)}</span>\"\n",
    "    library_marker.popup = library_details\n",
    "    libraries_map.add(library_marker)\n",
    "\n",
    "\n",
    "my_position = Marker(location=center, icon=location_icon, draggable=True)\n",
    "my_position.observe(on_my_position_changed, \"location\")\n",
    "\n",
    "libraries_map.add_control(my_position)\n",
    "display(libraries_map)"
   ]
  },
  {
   "cell_type": "markdown",
   "metadata": {},
   "source": [
    "Community areas that we pass through on a trip from the Daley Center to O'Hare Airport."
   ]
  },
  {
   "cell_type": "code",
   "execution_count": 161,
   "metadata": {},
   "outputs": [
    {
     "data": {
      "application/vnd.jupyter.widget-view+json": {
       "model_id": "191641dbb42046a585bb97ff4bea7192",
       "version_major": 2,
       "version_minor": 0
      },
      "text/plain": [
       "Map(center=[41.92424883732577, -87.72274017333986], controls=(ZoomControl(options=['position', 'zoom_in_text',…"
      ]
     },
     "metadata": {},
     "output_type": "display_data"
    }
   ],
   "source": [
    "trip_map = Map(center=[41.92424883732577, -87.72274017333986], zoom=11)\n",
    "\n",
    "trip_geometry = {\n",
    "    \"coordinates\": [\n",
    "      [-87.63095706926296, 41.883920956255224],[-87.63093052767819, 41.88325569333841],\n",
    "      [-87.63684297531508, 41.88322881741743],[-87.63682723619804, 41.88189296484862],\n",
    "      [-87.64583001093926, 41.88176406531636],[-87.64556244595593, 41.8839084509878],\n",
    "      [-87.64681360038576, 41.887978891258825],[-87.65712486706367, 41.89568681214507],\n",
    "      [-87.65859173777416, 41.89703559399271],[-87.66010175174097, 41.90008630499267],\n",
    "      [-87.6609646168648, 41.902847875583745],[-87.66061947081528, 41.90528823390659],\n",
    "      [-87.66208634152613, 41.907856931373374],[-87.66786978418733, 41.915623971345894],\n",
    "      [-87.67311334487873, 41.92011686521596],[-87.68725478998756, 41.927623866972624],\n",
    "      [-87.69750427145591, 41.93394872585398],[-87.70600433948675, 41.93867612005508],\n",
    "      [-87.71395364871834, 41.941703526516136],[-87.71855494590349, 41.94634069404421],\n",
    "      [-87.72523341033431, 41.95064524453744],[-87.74318775119902, 41.960796298357224],\n",
    "      [-87.75823682581736, 41.96896814729007],[-87.7659547090823, 41.97279282784706],\n",
    "      [-87.7762448330368, 41.97829052959409],[-87.78428500170016, 41.98283266382293],\n",
    "      [-87.81256731905091, 41.982340356805935],[-87.82639934099198, 41.98449314861523],\n",
    "      [-87.85968209819193, 41.9836672569391],[-87.88581982097564, 41.9795526237948],\n",
    "      [-87.89586899029486, 41.980297647123905]\n",
    "    ],\n",
    "  \"type\": \"LineString\"\n",
    "}\n",
    "\n",
    "trip_line = GeoJSON(\n",
    "    data={\n",
    "        \"type\": \"Feature\",\n",
    "        \"properties\": {},\n",
    "        \"geometry\": trip_geometry\n",
    "    },\n",
    "    style={\n",
    "        \"color\": \"#000000\"\n",
    "    })\n",
    "\n",
    "trip_map.add(trip_line)\n",
    "display(trip_map)"
   ]
  },
  {
   "cell_type": "code",
   "execution_count": 163,
   "metadata": {},
   "outputs": [
    {
     "data": {
      "text/html": [
       "<div>\n",
       "<style scoped>\n",
       "    .dataframe tbody tr th:only-of-type {\n",
       "        vertical-align: middle;\n",
       "    }\n",
       "\n",
       "    .dataframe tbody tr th {\n",
       "        vertical-align: top;\n",
       "    }\n",
       "\n",
       "    .dataframe thead th {\n",
       "        text-align: right;\n",
       "    }\n",
       "</style>\n",
       "<table border=\"1\" class=\"dataframe\">\n",
       "  <thead>\n",
       "    <tr style=\"text-align: right;\">\n",
       "      <th></th>\n",
       "      <th>name</th>\n",
       "      <th>boundaries</th>\n",
       "    </tr>\n",
       "  </thead>\n",
       "  <tbody>\n",
       "    <tr>\n",
       "      <th>0</th>\n",
       "      <td>IRVING PARK</td>\n",
       "      <td>{'coordinates': [[[[-87.69474577254876, 41.961...</td>\n",
       "    </tr>\n",
       "    <tr>\n",
       "      <th>1</th>\n",
       "      <td>NEAR WEST SIDE</td>\n",
       "      <td>{'coordinates': [[[[-87.6375883858287, 41.8862...</td>\n",
       "    </tr>\n",
       "    <tr>\n",
       "      <th>2</th>\n",
       "      <td>JEFFERSON PARK</td>\n",
       "      <td>{'coordinates': [[[[-87.75263506823083, 41.967...</td>\n",
       "    </tr>\n",
       "    <tr>\n",
       "      <th>3</th>\n",
       "      <td>PORTAGE PARK</td>\n",
       "      <td>{'coordinates': [[[[-87.75263506823083, 41.967...</td>\n",
       "    </tr>\n",
       "    <tr>\n",
       "      <th>4</th>\n",
       "      <td>AVONDALE</td>\n",
       "      <td>{'coordinates': [[[[-87.6879867878517, 41.9361...</td>\n",
       "    </tr>\n",
       "    <tr>\n",
       "      <th>5</th>\n",
       "      <td>WEST TOWN</td>\n",
       "      <td>{'coordinates': [[[[-87.65686079759237, 41.910...</td>\n",
       "    </tr>\n",
       "    <tr>\n",
       "      <th>6</th>\n",
       "      <td>NORWOOD PARK</td>\n",
       "      <td>{'coordinates': [[[[-87.78002228630051, 41.997...</td>\n",
       "    </tr>\n",
       "    <tr>\n",
       "      <th>7</th>\n",
       "      <td>LOOP</td>\n",
       "      <td>{'coordinates': [[[[-87.6094858028664, 41.8893...</td>\n",
       "    </tr>\n",
       "    <tr>\n",
       "      <th>8</th>\n",
       "      <td>OHARE</td>\n",
       "      <td>{'coordinates': [[[[-87.83658087874365, 41.986...</td>\n",
       "    </tr>\n",
       "    <tr>\n",
       "      <th>9</th>\n",
       "      <td>LOGAN SQUARE</td>\n",
       "      <td>{'coordinates': [[[[-87.68284015972066, 41.932...</td>\n",
       "    </tr>\n",
       "  </tbody>\n",
       "</table>\n",
       "</div>"
      ],
      "text/plain": [
       "             name                                         boundaries\n",
       "0     IRVING PARK  {'coordinates': [[[[-87.69474577254876, 41.961...\n",
       "1  NEAR WEST SIDE  {'coordinates': [[[[-87.6375883858287, 41.8862...\n",
       "2  JEFFERSON PARK  {'coordinates': [[[[-87.75263506823083, 41.967...\n",
       "3    PORTAGE PARK  {'coordinates': [[[[-87.75263506823083, 41.967...\n",
       "4        AVONDALE  {'coordinates': [[[[-87.6879867878517, 41.9361...\n",
       "5       WEST TOWN  {'coordinates': [[[[-87.65686079759237, 41.910...\n",
       "6    NORWOOD PARK  {'coordinates': [[[[-87.78002228630051, 41.997...\n",
       "7            LOOP  {'coordinates': [[[[-87.6094858028664, 41.8893...\n",
       "8           OHARE  {'coordinates': [[[[-87.83658087874365, 41.986...\n",
       "9    LOGAN SQUARE  {'coordinates': [[[[-87.68284015972066, 41.932..."
      ]
     },
     "execution_count": 163,
     "metadata": {},
     "output_type": "execute_result"
    }
   ],
   "source": [
    "import json\n",
    "\n",
    "# Intersects query... TODO tidy this up to use the points from the previous code block.\n",
    "query = f\"\"\"\n",
    "  SELECT name, boundaries \n",
    "  FROM community_areas \n",
    "  WHERE intersects ('{json.dumps(trip_geometry)}'::object, boundaries)\n",
    "\"\"\"\n",
    "\n",
    "df = pd.read_sql(query, CONNECTION_STRING)\n",
    "\n",
    "df"
   ]
  },
  {
   "cell_type": "code",
   "execution_count": null,
   "metadata": {},
   "outputs": [],
   "source": [
    "# Now let's work out how many open pot hole or street light issues there are."
   ]
  },
  {
   "cell_type": "code",
   "execution_count": 166,
   "metadata": {},
   "outputs": [
    {
     "data": {
      "text/html": [
       "<div>\n",
       "<style scoped>\n",
       "    .dataframe tbody tr th:only-of-type {\n",
       "        vertical-align: middle;\n",
       "    }\n",
       "\n",
       "    .dataframe tbody tr th {\n",
       "        vertical-align: top;\n",
       "    }\n",
       "\n",
       "    .dataframe thead th {\n",
       "        text-align: right;\n",
       "    }\n",
       "</style>\n",
       "<table border=\"1\" class=\"dataframe\">\n",
       "  <thead>\n",
       "    <tr style=\"text-align: right;\">\n",
       "      <th></th>\n",
       "      <th>name</th>\n",
       "      <th>open_issues</th>\n",
       "      <th>boundaries</th>\n",
       "    </tr>\n",
       "  </thead>\n",
       "  <tbody>\n",
       "    <tr>\n",
       "      <th>0</th>\n",
       "      <td>NORWOOD PARK</td>\n",
       "      <td>26</td>\n",
       "      <td>{'coordinates': [[[[-87.78002228630051, 41.997...</td>\n",
       "    </tr>\n",
       "    <tr>\n",
       "      <th>1</th>\n",
       "      <td>PORTAGE PARK</td>\n",
       "      <td>100</td>\n",
       "      <td>{'coordinates': [[[[-87.75263506823083, 41.967...</td>\n",
       "    </tr>\n",
       "    <tr>\n",
       "      <th>2</th>\n",
       "      <td>LOOP</td>\n",
       "      <td>36</td>\n",
       "      <td>{'coordinates': [[[[-87.6094858028664, 41.8893...</td>\n",
       "    </tr>\n",
       "    <tr>\n",
       "      <th>3</th>\n",
       "      <td>WEST TOWN</td>\n",
       "      <td>160</td>\n",
       "      <td>{'coordinates': [[[[-87.65686079759237, 41.910...</td>\n",
       "    </tr>\n",
       "    <tr>\n",
       "      <th>4</th>\n",
       "      <td>IRVING PARK</td>\n",
       "      <td>70</td>\n",
       "      <td>{'coordinates': [[[[-87.69474577254876, 41.961...</td>\n",
       "    </tr>\n",
       "    <tr>\n",
       "      <th>5</th>\n",
       "      <td>NEAR WEST SIDE</td>\n",
       "      <td>364</td>\n",
       "      <td>{'coordinates': [[[[-87.6375883858287, 41.8862...</td>\n",
       "    </tr>\n",
       "    <tr>\n",
       "      <th>6</th>\n",
       "      <td>JEFFERSON PARK</td>\n",
       "      <td>25</td>\n",
       "      <td>{'coordinates': [[[[-87.75263506823083, 41.967...</td>\n",
       "    </tr>\n",
       "    <tr>\n",
       "      <th>7</th>\n",
       "      <td>LOGAN SQUARE</td>\n",
       "      <td>195</td>\n",
       "      <td>{'coordinates': [[[[-87.68284015972066, 41.932...</td>\n",
       "    </tr>\n",
       "    <tr>\n",
       "      <th>8</th>\n",
       "      <td>OHARE</td>\n",
       "      <td>9</td>\n",
       "      <td>{'coordinates': [[[[-87.83658087874365, 41.986...</td>\n",
       "    </tr>\n",
       "    <tr>\n",
       "      <th>9</th>\n",
       "      <td>AVONDALE</td>\n",
       "      <td>53</td>\n",
       "      <td>{'coordinates': [[[[-87.6879867878517, 41.9361...</td>\n",
       "    </tr>\n",
       "  </tbody>\n",
       "</table>\n",
       "</div>"
      ],
      "text/plain": [
       "             name  open_issues  \\\n",
       "0    NORWOOD PARK           26   \n",
       "1    PORTAGE PARK          100   \n",
       "2            LOOP           36   \n",
       "3       WEST TOWN          160   \n",
       "4     IRVING PARK           70   \n",
       "5  NEAR WEST SIDE          364   \n",
       "6  JEFFERSON PARK           25   \n",
       "7    LOGAN SQUARE          195   \n",
       "8           OHARE            9   \n",
       "9        AVONDALE           53   \n",
       "\n",
       "                                          boundaries  \n",
       "0  {'coordinates': [[[[-87.78002228630051, 41.997...  \n",
       "1  {'coordinates': [[[[-87.75263506823083, 41.967...  \n",
       "2  {'coordinates': [[[[-87.6094858028664, 41.8893...  \n",
       "3  {'coordinates': [[[[-87.65686079759237, 41.910...  \n",
       "4  {'coordinates': [[[[-87.69474577254876, 41.961...  \n",
       "5  {'coordinates': [[[[-87.6375883858287, 41.8862...  \n",
       "6  {'coordinates': [[[[-87.75263506823083, 41.967...  \n",
       "7  {'coordinates': [[[[-87.68284015972066, 41.932...  \n",
       "8  {'coordinates': [[[[-87.83658087874365, 41.986...  \n",
       "9  {'coordinates': [[[[-87.6879867878517, 41.9361...  "
      ]
     },
     "execution_count": 166,
     "metadata": {},
     "output_type": "execute_result"
    }
   ],
   "source": [
    "query=f\"\"\"\n",
    "WITH IntersectingCommunities AS (\n",
    "    SELECT areanumber, name, boundaries \n",
    "    FROM community_areas \n",
    "    WHERE intersects ('{json.dumps(trip_geometry)}'::object, boundaries)\n",
    ")\n",
    "SELECT name, \n",
    "       count(t.srtype) AS open_issues, \n",
    "       boundaries \n",
    "FROM IntersectingCommunities i, three_eleven_calls t \n",
    "WHERE i.areanumber = t.locationdetails['communityarea'] \n",
    "      AND t.status = 'Open' \n",
    "      AND (srtype LIKE 'Sign Repair%' OR srtype LIKE 'Street Light%' OR srtype LIKE 'Pothole%') \n",
    "GROUP BY name, boundaries;\n",
    "\"\"\"\n",
    "\n",
    "df = pd.read_sql(query, CONNECTION_STRING)\n",
    "\n",
    "df"
   ]
  },
  {
   "cell_type": "code",
   "execution_count": 167,
   "metadata": {},
   "outputs": [
    {
     "data": {
      "application/vnd.jupyter.widget-view+json": {
       "model_id": "fc2f08a13fed41088d47ceadba3c2328",
       "version_major": 2,
       "version_minor": 0
      },
      "text/plain": [
       "Map(center=[41.92424883732577, -87.72274017333986], controls=(ZoomControl(options=['position', 'zoom_in_text',…"
      ]
     },
     "metadata": {},
     "output_type": "display_data"
    }
   ],
   "source": [
    "def get_color_for_issues(issue_count):\n",
    "    if issue_count < 50:\n",
    "        return \"green\"\n",
    "    elif issue_count < 150:\n",
    "        return \"yellow\"\n",
    "    elif issue_count < 300:\n",
    "        return \"orange\"\n",
    "\n",
    "    return \"red\"\n",
    "\n",
    "\n",
    "trip_with_issues_map = Map(center=[41.92424883732577, -87.72274017333986], zoom=11)\n",
    "\n",
    "for row in df.iterrows():\n",
    "    community_area = GeoJSON(\n",
    "        data=row[1][\"boundaries\"],\n",
    "        style={\n",
    "            \"stroke\": False,\n",
    "            \"fillColor\": get_color_for_issues(row[1][\"open_issues\"]),\n",
    "            \"fillOpacity\": 0.5\n",
    "        }\n",
    "    )\n",
    "\n",
    "    trip_with_issues_map.add(community_area)\n",
    "    \n",
    "trip_with_issues_map.add(trip_line)\n",
    "display(trip_with_issues_map)"
   ]
  }
 ],
 "metadata": {
  "kernelspec": {
   "display_name": ".venv",
   "language": "python",
   "name": "python3"
  },
  "language_info": {
   "codemirror_mode": {
    "name": "ipython",
    "version": 3
   },
   "file_extension": ".py",
   "mimetype": "text/x-python",
   "name": "python",
   "nbconvert_exporter": "python",
   "pygments_lexer": "ipython3",
   "version": "3.12.2"
  }
 },
 "nbformat": 4,
 "nbformat_minor": 2
}
